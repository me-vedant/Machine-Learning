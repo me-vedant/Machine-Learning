{
 "cells": [
  {
   "cell_type": "markdown",
   "id": "503cdb60",
   "metadata": {},
   "source": [
    "# Part B Q1"
   ]
  },
  {
   "cell_type": "markdown",
   "id": "4453e9d0",
   "metadata": {},
   "source": [
    "### Random Forest on Iris dataset "
   ]
  },
  {
   "cell_type": "code",
   "execution_count": 2,
   "id": "9221c383",
   "metadata": {},
   "outputs": [],
   "source": [
    "import pandas as pd\n",
    "from sklearn import datasets"
   ]
  },
  {
   "cell_type": "code",
   "execution_count": 3,
   "id": "38f5116c",
   "metadata": {},
   "outputs": [],
   "source": [
    "iris = datasets.load_iris()"
   ]
  },
  {
   "cell_type": "code",
   "execution_count": 4,
   "id": "434670e7",
   "metadata": {},
   "outputs": [
    {
     "name": "stdout",
     "output_type": "stream",
     "text": [
      "['sepal length (cm)', 'sepal width (cm)', 'petal length (cm)', 'petal width (cm)']\n"
     ]
    }
   ],
   "source": [
    "# print the names of the four features\n",
    "print(iris.feature_names)"
   ]
  },
  {
   "cell_type": "code",
   "execution_count": 5,
   "id": "065c3c39",
   "metadata": {},
   "outputs": [
    {
     "name": "stdout",
     "output_type": "stream",
     "text": [
      "['setosa' 'versicolor' 'virginica']\n"
     ]
    }
   ],
   "source": [
    "# print the label species(setosa, versicolor,virginica)\n",
    "print(iris.target_names)"
   ]
  },
  {
   "cell_type": "code",
   "execution_count": 6,
   "id": "f93622d8",
   "metadata": {},
   "outputs": [
    {
     "data": {
      "text/html": [
       "<div>\n",
       "<style scoped>\n",
       "    .dataframe tbody tr th:only-of-type {\n",
       "        vertical-align: middle;\n",
       "    }\n",
       "\n",
       "    .dataframe tbody tr th {\n",
       "        vertical-align: top;\n",
       "    }\n",
       "\n",
       "    .dataframe thead th {\n",
       "        text-align: right;\n",
       "    }\n",
       "</style>\n",
       "<table border=\"1\" class=\"dataframe\">\n",
       "  <thead>\n",
       "    <tr style=\"text-align: right;\">\n",
       "      <th></th>\n",
       "      <th>sepal length</th>\n",
       "      <th>sepal width</th>\n",
       "      <th>petal length</th>\n",
       "      <th>petal width</th>\n",
       "      <th>species</th>\n",
       "    </tr>\n",
       "  </thead>\n",
       "  <tbody>\n",
       "    <tr>\n",
       "      <th>0</th>\n",
       "      <td>5.1</td>\n",
       "      <td>3.5</td>\n",
       "      <td>1.4</td>\n",
       "      <td>0.2</td>\n",
       "      <td>0</td>\n",
       "    </tr>\n",
       "    <tr>\n",
       "      <th>1</th>\n",
       "      <td>4.9</td>\n",
       "      <td>3.0</td>\n",
       "      <td>1.4</td>\n",
       "      <td>0.2</td>\n",
       "      <td>0</td>\n",
       "    </tr>\n",
       "    <tr>\n",
       "      <th>2</th>\n",
       "      <td>4.7</td>\n",
       "      <td>3.2</td>\n",
       "      <td>1.3</td>\n",
       "      <td>0.2</td>\n",
       "      <td>0</td>\n",
       "    </tr>\n",
       "    <tr>\n",
       "      <th>3</th>\n",
       "      <td>4.6</td>\n",
       "      <td>3.1</td>\n",
       "      <td>1.5</td>\n",
       "      <td>0.2</td>\n",
       "      <td>0</td>\n",
       "    </tr>\n",
       "    <tr>\n",
       "      <th>4</th>\n",
       "      <td>5.0</td>\n",
       "      <td>3.6</td>\n",
       "      <td>1.4</td>\n",
       "      <td>0.2</td>\n",
       "      <td>0</td>\n",
       "    </tr>\n",
       "  </tbody>\n",
       "</table>\n",
       "</div>"
      ],
      "text/plain": [
       "   sepal length  sepal width  petal length  petal width  species\n",
       "0           5.1          3.5           1.4          0.2        0\n",
       "1           4.9          3.0           1.4          0.2        0\n",
       "2           4.7          3.2           1.3          0.2        0\n",
       "3           4.6          3.1           1.5          0.2        0\n",
       "4           5.0          3.6           1.4          0.2        0"
      ]
     },
     "execution_count": 6,
     "metadata": {},
     "output_type": "execute_result"
    }
   ],
   "source": [
    "# Creating a DataFrame of given iris dataset.\n",
    "import pandas as pd\n",
    "data=pd.DataFrame({\n",
    "    'sepal length':iris.data[:,0],\n",
    "    'sepal width':iris.data[:,1],\n",
    "    'petal length':iris.data[:,2],\n",
    "    'petal width':iris.data[:,3],\n",
    "    'species':iris.target\n",
    "})\n",
    "data.head()"
   ]
  },
  {
   "cell_type": "code",
   "execution_count": 7,
   "id": "fb30d78d",
   "metadata": {},
   "outputs": [],
   "source": [
    "from sklearn.model_selection import train_test_split\n",
    "# x will be features \n",
    "X=data[['sepal length', 'sepal width', 'petal length', 'petal width']]  \n",
    "y=data['species']  # y response will be species \n",
    "\n",
    "\n",
    "X_train, X_test, y_train, y_test = train_test_split(X, y, test_size=0.3) # 70% training and 30% test"
   ]
  },
  {
   "cell_type": "code",
   "execution_count": 8,
   "id": "8be5d92f",
   "metadata": {},
   "outputs": [],
   "source": [
    "from sklearn.ensemble import RandomForestClassifier\n",
    "\n",
    "#Create a Gaussian Classifier\n",
    "clf=RandomForestClassifier(n_estimators=100)\n",
    "\n",
    "#Train the model using the training sets y_pred=clf.predict(X_test)\n",
    "clf.fit(X_train,y_train)\n",
    "\n",
    "y_pred=clf.predict(X_test)"
   ]
  },
  {
   "cell_type": "code",
   "execution_count": 10,
   "id": "a835d487",
   "metadata": {},
   "outputs": [
    {
     "name": "stdout",
     "output_type": "stream",
     "text": [
      "Accuracy: 0.9333333333333333\n"
     ]
    },
    {
     "name": "stderr",
     "output_type": "stream",
     "text": [
      "C:\\Users\\dbda-lab\\AppData\\Roaming\\Python\\Python39\\site-packages\\sklearn\\base.py:409: UserWarning: X does not have valid feature names, but RandomForestClassifier was fitted with feature names\n",
      "  warnings.warn(\n"
     ]
    },
    {
     "data": {
      "text/plain": [
       "'virginica'"
      ]
     },
     "execution_count": 10,
     "metadata": {},
     "output_type": "execute_result"
    }
   ],
   "source": [
    "#Import scikit-learn metrics module for accuracy calculation\n",
    "from sklearn import metrics\n",
    "# Model Accuracy, how often is the classifier correct?\n",
    "print(\"Accuracy:\",metrics.accuracy_score(y_test, y_pred))\n",
    "species_idx = clf.predict([[3, 5, 4, 2]])[0]\n",
    "iris.target_names[species_idx]"
   ]
  },
  {
   "cell_type": "code",
   "execution_count": 11,
   "id": "4d9aa081",
   "metadata": {},
   "outputs": [
    {
     "name": "stderr",
     "output_type": "stream",
     "text": [
      "No artists with labels found to put in legend.  Note that artists whose label start with an underscore are ignored when legend() is called with no argument.\n"
     ]
    },
    {
     "data": {
      "image/png": "[encoded data removed]",
      "text/plain": [
       "<Figure size 640x480 with 1 Axes>"
      ]
     },
     "metadata": {},
     "output_type": "display_data"
    }
   ],
   "source": [
    "import pandas as pd\n",
    "feature_imp = pd.Series(clf.feature_importances_,index=iris.feature_names).sort_values(ascending=False)\n",
    "feature_imp\n",
    "import matplotlib.pyplot as plt\n",
    "import seaborn as sns\n",
    "%matplotlib inline\n",
    "\n",
    "# Creating a bar plot\n",
    "sns.barplot(x=feature_imp, y=feature_imp.index)\n",
    "\n",
    "# Add labels to your graph\n",
    "plt.xlabel('Feature Importance Score')\n",
    "plt.ylabel('Features')\n",
    "plt.title(\"Visualizing Important Features\")\n",
    "plt.legend()\n",
    "plt.show()"
   ]
  },
  {
   "cell_type": "code",
   "execution_count": 15,
   "id": "e719dfa2",
   "metadata": {},
   "outputs": [
    {
     "name": "stdout",
     "output_type": "stream",
     "text": [
      "Accuracy: 0.9555555555555556\n"
     ]
    }
   ],
   "source": [
    "# Importing train_test_split function\n",
    "from sklearn.model_selection import train_test_split\n",
    "\n",
    "# Removing feature \"sepal length\"\n",
    "X=data[['petal length', 'petal width','sepal length']]  \n",
    "y=data['species']                                       \n",
    "# Split dataset into training set and test set\n",
    "X_train, X_test, y_train, y_test = train_test_split(X, y, test_size=0.3) # 70% training and 30% test\n",
    "\n",
    "from sklearn.ensemble import RandomForestClassifier\n",
    "\n",
    "#Create a Gaussian Classifier\n",
    "clf=RandomForestClassifier(n_estimators=100)\n",
    "\n",
    "#Train the model using the training sets y_pred=clf.predict(X_test)\n",
    "clf.fit(X_train,y_train)\n",
    "\n",
    "# prediction on test set\n",
    "y_pred=clf.predict(X_test)\n",
    "\n",
    "#Import scikit-learn metrics module for accuracy calculation\n",
    "from sklearn import metrics\n",
    "\n",
    "print(\"Accuracy:\",metrics.accuracy_score(y_test, y_pred))"
   ]
  },
  {
   "cell_type": "markdown",
   "id": "b304b794",
   "metadata": {},
   "source": [
    "# Part B Q2 "
   ]
  },
  {
   "cell_type": "code",
   "execution_count": 16,
   "id": "07167559",
   "metadata": {},
   "outputs": [],
   "source": [
    "import pandas as pd\n",
    "import numpy as np\n",
    "from sklearn.tree import DecisionTreeRegressor \n",
    "import matplotlib.pyplot as plt\n",
    "\n",
    "\n",
    "dataset=np.array([['Asset Flip',100,1000],\n",
    "                  ['Text Based',500,3000],\n",
    "                  ['Visual Novel',1500,5000],\n",
    "                  ['2D Pixel Art',3500,8000],\n",
    "                  ['2D Vector Art',5000,6500],\n",
    "                  ['Strategy',6000,7000],\n",
    "                  ['First Person Shooter',8000,15000],\n",
    "                  ['Simulator',9500,20000],\n",
    "                  ['Racing',12000,21000],\n",
    "                  ['RPG',14000,25000],\n",
    "                  ['Sandbox',15500,27000],\n",
    "                  ['Open-World',16500,30000],\n",
    "                  ['MMOFPS',25000,52000],\n",
    "                  ['MMORPG',30000,80000]])"
   ]
  },
  {
   "cell_type": "code",
   "execution_count": 17,
   "id": "eaca6cf9",
   "metadata": {},
   "outputs": [],
   "source": [
    "X = dataset[:, 1:2].astype(int) \n",
    "y = dataset[:, 2].astype(int) "
   ]
  },
  {
   "cell_type": "code",
   "execution_count": 18,
   "id": "91078583",
   "metadata": {},
   "outputs": [],
   "source": [
    "regressor = DecisionTreeRegressor(random_state = 0) \n",
    "regressor.fit(X, y)\n",
    "\n",
    "y_pred = regressor.predict([[3750]])"
   ]
  },
  {
   "cell_type": "code",
   "execution_count": 19,
   "id": "fb9bf772",
   "metadata": {},
   "outputs": [
    {
     "name": "stdout",
     "output_type": "stream",
     "text": [
      "Predicted price:  8000\n",
      "\n"
     ]
    }
   ],
   "source": [
    "print(\"Predicted price: % d\\n\"% y_pred) \n",
    "\n",
    "X_grid = np.arange(min(X), max(X), 0.01)\n",
    "\n",
    "X_grid = X_grid.reshape((len(X_grid), 1)) "
   ]
  },
  {
   "cell_type": "code",
   "execution_count": 20,
   "id": "7fdb599a",
   "metadata": {},
   "outputs": [
    {
     "data": {
      "image/png": "[encoded data removed]",
      "text/plain": [
       "<Figure size 640x480 with 1 Axes>"
      ]
     },
     "metadata": {},
     "output_type": "display_data"
    }
   ],
   "source": [
    "plt.scatter(X, y, color = 'red')\n",
    "\n",
    "plt.plot(X_grid, regressor.predict(X_grid), color = 'blue') \n",
    "\n",
    "plt.title('Profit to Production Cost (Decision Tree Regression)') \n",
    "\n",
    "plt.xlabel('Production Cost')\n",
    "plt.ylabel('Profit')\n",
    "plt.show()"
   ]
  },
  {
   "cell_type": "markdown",
   "id": "02d53d8e",
   "metadata": {},
   "source": [
    "#  PART B Q3 Image processing"
   ]
  },
  {
   "cell_type": "code",
   "execution_count": 21,
   "id": "c8735e17",
   "metadata": {},
   "outputs": [],
   "source": [
    "import numpy as np\n",
    "import matplotlib.pyplot as plt\n",
    "import matplotlib.image as img\n",
    "from scipy import misc\n",
    "import imageio\n",
    "import os\n",
    "os.chdir(r'C:\\Users\\dbda-lab\\Desktop\\ML Lab Exam')"
   ]
  },
  {
   "cell_type": "code",
   "execution_count": 22,
   "id": "f5f6ce25",
   "metadata": {},
   "outputs": [],
   "source": [
    "def read_image():\n",
    "      \n",
    "    # loading the png image as a 3d matrix \n",
    "    img = imageio.imread(r'C:\\Users\\dbda-lab\\Desktop\\ML Lab Exam\\bird_image.png') \n",
    "  \n",
    "    # uncomment the below code to view the loaded image\n",
    "    # plt.imshow(A) # plotting the image. -what is A over here?\n",
    "    # plt.show() \n",
    "      \n",
    "    # scaling it so that the values are small\n",
    "    img = img / 255 \n",
    "  \n",
    "    return img"
   ]
  },
  {
   "cell_type": "code",
   "execution_count": 23,
   "id": "a3d1cb3a",
   "metadata": {},
   "outputs": [],
   "source": [
    "def initialize_means(img, clusters):\n",
    "      \n",
    "    # reshaping it or flattening it into a 2d matrix\n",
    "    points = np.reshape(img, (img.shape[0] * img.shape[1],\n",
    "                                             img.shape[2])) \n",
    "    m, n = points.shape\n",
    "  \n",
    "    # clusters is the number of clusters\n",
    "    # or the number of colors that we choose.\n",
    "      \n",
    "    # means is the array of assumed means or centroids. \n",
    "    means = np.zeros((clusters, n)) \n",
    "  \n",
    "    # random initialization of means. \n",
    "    for i in range(clusters):\n",
    "        rand1 = int(np.random.random(1)*10)\n",
    "        rand2 = int(np.random.random(1)*8)\n",
    "        means[i, 0] = points[rand1, 0]\n",
    "        means[i, 1] = points[rand2, 1]\n",
    "  \n",
    "    return points, means"
   ]
  },
  {
   "cell_type": "code",
   "execution_count": 24,
   "id": "445bec57",
   "metadata": {},
   "outputs": [],
   "source": [
    "def distance(x1, y1, x2, y2):\n",
    "      \n",
    "    dist = np.square(x1 - x2) + np.square(y1 - y2)\n",
    "    dist = np.sqrt(dist)\n",
    "  \n",
    "    return dist"
   ]
  },
  {
   "cell_type": "code",
   "execution_count": 25,
   "id": "172f7637",
   "metadata": {},
   "outputs": [],
   "source": [
    "def k_means(points, means, clusters):\n",
    "  \n",
    "    iterations = 10 # the number of iterations \n",
    "    m, n = points.shape\n",
    "      \n",
    "    # these are the index values that\n",
    "    # correspond to the cluster to\n",
    "    # which each pixel belongs to.\n",
    "    index = np.zeros(m) \n",
    "  \n",
    "    # k-means algorithm.\n",
    "    while(iterations > 0):\n",
    "  \n",
    "        for j in range(len(points)):\n",
    "              \n",
    "            # initialize minimum value to a large value\n",
    "            minv = 1000\n",
    "            temp = None\n",
    "              \n",
    "            for k in range(clusters):\n",
    "                  \n",
    "                x1 = points[j, 0]\n",
    "                y1 = points[j, 1]\n",
    "                x2 = means[k, 0]\n",
    "                y2 = means[k, 1]\n",
    "                  \n",
    "                if(distance(x1, y1, x2, y2) < minv):         \n",
    "                    minv = distance(x1, y1, x2, y2)\n",
    "                    temp = k\n",
    "                    index[j] = k \n",
    "          \n",
    "        for k in range(clusters):\n",
    "              \n",
    "            sumx = 0\n",
    "            sumy = 0\n",
    "            count = 0\n",
    "              \n",
    "            for j in range(len(points)):\n",
    "                  \n",
    "                if(index[j] == k):\n",
    "                    sumx += points[j, 0]\n",
    "                    sumy += points[j, 1] \n",
    "                    count += 1\n",
    "              \n",
    "            if(count == 0):\n",
    "                count = 1    \n",
    "              \n",
    "            means[k, 0] = float(sumx / count)\n",
    "            means[k, 1] = float(sumy / count)     \n",
    "              \n",
    "        iterations -= 1\n",
    "  \n",
    "    return means, index"
   ]
  },
  {
   "cell_type": "code",
   "execution_count": 26,
   "id": "0b84b1d9",
   "metadata": {},
   "outputs": [],
   "source": [
    "def compress_image(means, index, img):\n",
    "  \n",
    "    # recovering the compressed image by\n",
    "    # assigning each pixel to its corresponding centroid.\n",
    "    centroid = np.array(means)\n",
    "    recovered = centroid[index.astype(int), :]\n",
    "      \n",
    "    # getting back the 3d matrix (row, col, rgb(3))\n",
    "    recovered = np.reshape(recovered, (img.shape[0], img.shape[1],\n",
    "                                                     img.shape[2]))\n",
    "  \n",
    "    # plotting the compressed image.\n",
    "    plt.imshow(recovered)\n",
    "    plt.show()\n",
    "  \n",
    "    # saving the compressed image.\n",
    "    misc.imsave('compressed_' + str(clusters) +\n",
    "                        '_colors.png', recovered)"
   ]
  },
  {
   "cell_type": "code",
   "execution_count": null,
   "id": "248bc75e",
   "metadata": {},
   "outputs": [],
   "source": [
    "# Driver Code\n",
    "if __name__ == '__main__':\n",
    "  \n",
    "    img = read_image()\n",
    "  \n",
    "    clusters = 16\n",
    "    clusters = int(input('Enter the number of colors in the compressed image. default = 16\\n'))\n",
    "  \n",
    "    points, means = initialize_means(img, clusters)\n",
    "    means, index = k_means(points, means, clusters)\n",
    "    compress_image(means, index, img)"
   ]
  }
 ],
 "metadata": {
  "kernelspec": {
   "display_name": "Python 3 (ipykernel)",
   "language": "python",
   "name": "python3"
  },
  "language_info": {
   "codemirror_mode": {
    "name": "ipython",
    "version": 3
   },
   "file_extension": ".py",
   "mimetype": "text/x-python",
   "name": "python",
   "nbconvert_exporter": "python",
   "pygments_lexer": "ipython3",
   "version": "3.9.13"
  }
 },
 "nbformat": 4,
 "nbformat_minor": 5
}
